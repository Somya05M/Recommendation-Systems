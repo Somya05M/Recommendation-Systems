{
 "cells": [
  {
   "cell_type": "code",
   "execution_count": 2,
   "metadata": {},
   "outputs": [],
   "source": [
    "import numpy as np \n",
    "import pandas as pd "
   ]
  },
  {
   "cell_type": "code",
   "execution_count": 3,
   "metadata": {},
   "outputs": [],
   "source": [
    "# # Read data from files\n",
    "# ratings = pd.read_csv('./DATASET/ratings.dat', sep='::', engine='python', header=None, names=['UserID', 'MovieID', 'Rating', 'Timestamp'])\n",
    "# users = pd.read_csv('./DATASET/users.dat', sep='::', engine='python', header=None, names=['UserID', 'Gender', 'Age', 'Occupation', 'Zip-code'])\n",
    "# movies = pd.read_csv('./DATASET/movies.dat', sep='::', engine='python', header=None, names=['MovieID', 'Title', 'Genres'], encoding='ISO-8859-1')\n",
    "# ratings.head()\n",
    "# users.head()\n",
    "# movies.head()"
   ]
  },
  {
   "cell_type": "code",
   "execution_count": 5,
   "metadata": {},
   "outputs": [],
   "source": [
    "# # Merge datasets\n",
    "# merged_data = pd.merge(pd.merge(ratings, users, on='UserID'), movies, on='MovieID')\n",
    "\n",
    "# # Save the merged dataset\n",
    "# merged_data.to_csv('./DATASET/merged_dataset.csv', index=False)\n",
    "\n",
    "# merged_data.head()\n",
    "\n",
    "merge_dataset = pd.read_csv('./DATASET/merged_dataset.csv')"
   ]
  },
  {
   "cell_type": "code",
   "execution_count": 6,
   "metadata": {},
   "outputs": [],
   "source": [
    "# Create a user-item matrix and convert it to float as it was causing error by attempting to divide a NumPy array of integers by a floating-point number\n",
    "user_item_matrix = merge_dataset.pivot_table(index='UserID', columns='MovieID', values='Rating', fill_value=0).astype(float)\n",
    "\n",
    "# Convert the user-item matrix to a NumPy array\n",
    "user_item_matrix_np = user_item_matrix.values\n",
    "\n",
    "# Calculate cosine similarity between users using NumPy\n",
    "user_similarity = np.dot(user_item_matrix_np, user_item_matrix_np.T)\n",
    "user_similarity /= np.sqrt(np.outer(np.diag(user_similarity), np.diag(user_similarity.T)))\n",
    "\n",
    "# Create a DataFrame with user similarity\n",
    "user_similarity_df = pd.DataFrame(user_similarity, index=user_item_matrix.index, columns=user_item_matrix.index)"
   ]
  },
  {
   "cell_type": "code",
   "execution_count": 12,
   "metadata": {},
   "outputs": [],
   "source": [
    "# Function to get the top N similar users for a given user\n",
    "def get_top_similar_users(user_id, n=5):\n",
    "    similar_users = user_similarity_df.loc[user_id].sort_values(ascending=False)[1:n+1]\n",
    "    return similar_users\n",
    "\n",
    "# Function to predict the rating for a movie for a given user\n",
    "def predict_rating(user_id, movie_id):\n",
    "    similar_users = get_top_similar_users(user_id)\n",
    "    \n",
    "    # Get ratings of similar users for the movie\n",
    "    similar_users_ratings = user_item_matrix.loc[similar_users.index, movie_id]\n",
    "    \n",
    "    # Calculate the weighted average of ratings\n",
    "    weighted_sum = np.dot(similar_users, similar_users_ratings)\n",
    "    total_similarity = similar_users.sum()\n",
    "    \n",
    "    if total_similarity == 0:\n",
    "        return 0  # Return 0 if no similar users have rated the movie\n",
    "    \n",
    "    predicted_rating = weighted_sum / total_similarity\n",
    "    return predicted_rating\n",
    "\n"
   ]
  },
  {
   "cell_type": "code",
   "execution_count": 13,
   "metadata": {},
   "outputs": [
    {
     "name": "stdout",
     "output_type": "stream",
     "text": [
      "Predicted rating for MovieID=1193 by UserID=2: 4.804680162792959\n",
      "Actual rating: 5\n",
      "Prediction error: 0.19531983720704105\n"
     ]
    }
   ],
   "source": [
    "# Example: Predict the rating for MovieID=1193 by UserID=2\n",
    "user_id_example = 2\n",
    "movie_id_example = 1193\n",
    "predicted_rating_example = predict_rating(user_id_example, movie_id_example)\n",
    "\n",
    "# Get the actual rating from the dataset\n",
    "actual_rating = merge_dataset[(merge_dataset['UserID'] == user_id_example) & (merge_dataset['MovieID'] == movie_id_example)]['Rating'].values[0]\n",
    "\n",
    "# Calculate the prediction error\n",
    "error = abs(predicted_rating_example - actual_rating)\n",
    "\n",
    "# Print the results\n",
    "print(f'Predicted rating for MovieID={movie_id_example} by UserID={user_id_example}: {predicted_rating_example}')\n",
    "print(f'Actual rating: {actual_rating}')\n",
    "print(f'Prediction error: {error}')"
   ]
  },
  {
   "cell_type": "code",
   "execution_count": null,
   "metadata": {},
   "outputs": [],
   "source": []
  }
 ],
 "metadata": {
  "kernelspec": {
   "display_name": "Python 3",
   "language": "python",
   "name": "python3"
  },
  "language_info": {
   "codemirror_mode": {
    "name": "ipython",
    "version": 3
   },
   "file_extension": ".py",
   "mimetype": "text/x-python",
   "name": "python",
   "nbconvert_exporter": "python",
   "pygments_lexer": "ipython3",
   "version": "3.8.10"
  }
 },
 "nbformat": 4,
 "nbformat_minor": 2
}
